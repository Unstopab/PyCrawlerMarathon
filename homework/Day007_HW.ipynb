{
 "cells": [
  {
   "cell_type": "markdown",
   "metadata": {},
   "source": [
    "# HTTP 靜態網頁架構說明\n",
    "\n",
    "* 認識靜態網頁的溝通架構與運作原理\n",
    "* HTML、CSS、JavaScript 在網頁中扮演的角色\n",
    "* 網頁中定位資料的方法"
   ]
  },
  {
   "cell_type": "markdown",
   "metadata": {},
   "source": [
    "## 作業目標\n",
    "\n",
    "1. （簡答題）請問目前提到的這種基於 HTTP 一來一回的網頁傳輸方式，有哪些缺點及問題？\n",
    "2. （簡答題）網頁中使用的 JavaScipt 程式語言，跟我們一般使用的 Python 在執行上有什麼不同。\n"
   ]
  },
  {
   "cell_type": "markdown",
   "metadata": {},
   "source": [
    "### 1.（簡答題）請問目前提到的這種基於 HTTP 一來一回的網頁傳輸方式，有哪些缺點及問題？"
   ]
  },
  {
   "cell_type": "code",
   "execution_count": 1,
   "metadata": {},
   "outputs": [
    {
     "data": {
      "text/plain": [
       "'\\n1、相同網絡環境下，HTTPS協議會使頁面的加載時間延長近50%，增加10%到20%的耗電。此外，HTTPS協議還會影響緩存，增加數據開銷和功耗。\\n\\n2、HTTPS協議的安全是有範圍的，在黑客攻擊、拒絕服務攻擊、伺服器劫持等方面幾乎起不到什麼作用。\\n\\n3、最關鍵的，SSL 證書的信用鏈體系並不安全。特別是在某些國家可以控制 CA 根證書的情況下，中間人攻擊一樣可行。\\n'"
      ]
     },
     "execution_count": 1,
     "metadata": {},
     "output_type": "execute_result"
    }
   ],
   "source": [
    "'''\n",
    "1、相同網絡環境下，HTTPS協議會使頁面的加載時間延長近50%，增加10%到20%的耗電。此外，HTTPS協議還會影響緩存，增加數據開銷和功耗。\n",
    "\n",
    "2、HTTPS協議的安全是有範圍的，在黑客攻擊、拒絕服務攻擊、伺服器劫持等方面幾乎起不到什麼作用。\n",
    "\n",
    "3、最關鍵的，SSL 證書的信用鏈體系並不安全。特別是在某些國家可以控制 CA 根證書的情況下，中間人攻擊一樣可行。\n",
    "'''"
   ]
  },
  {
   "cell_type": "markdown",
   "metadata": {},
   "source": [
    "### 2. （簡答題）網頁中使用的 JavaScipt 程式語言，跟我們一般使用的 Python 在執行上有什麼不同。"
   ]
  },
  {
   "cell_type": "code",
   "execution_count": 2,
   "metadata": {},
   "outputs": [
    {
     "data": {
      "text/plain": [
       "'\\nJavascript這設計之初是一種客戶端的指令碼語言，主要應用於瀏覽器，它的語法主要借鑑了C，而Python由於其“優雅”，“明確”，“簡單”的設計而廣受歡迎，被應用於教育，科學計算，web開發等不同的場景中。\\n\\nJavascript的資料型別比較簡單，有object、string、boolean、number、null和undefined，總共六種\\n\\nPython中一切均為物件，像module、function、class等等都是。\\n\\nPython有五個內建的簡單資料型別bool、int、long、float和complex，另外還有容器型別，程式碼型別，內部型別等等。\\n'"
      ]
     },
     "execution_count": 2,
     "metadata": {},
     "output_type": "execute_result"
    }
   ],
   "source": [
    "'''\n",
    "Javascript這設計之初是一種客戶端的指令碼語言，主要應用於瀏覽器，它的語法主要借鑑了C，而Python由於其“優雅”，“明確”，“簡單”的設計而廣受歡迎，被應用於教育，科學計算，web開發等不同的場景中。\n",
    "\n",
    "Javascript的資料型別比較簡單，有object、string、boolean、number、null和undefined，總共六種\n",
    "\n",
    "Python中一切均為物件，像module、function、class等等都是。\n",
    "\n",
    "Python有五個內建的簡單資料型別bool、int、long、float和complex，另外還有容器型別，程式碼型別，內部型別等等。\n",
    "'''"
   ]
  },
  {
   "cell_type": "code",
   "execution_count": null,
   "metadata": {},
   "outputs": [],
   "source": []
  }
 ],
 "metadata": {
  "kernelspec": {
   "display_name": "Python 3",
   "language": "python",
   "name": "python3"
  },
  "language_info": {
   "codemirror_mode": {
    "name": "ipython",
    "version": 3
   },
   "file_extension": ".py",
   "mimetype": "text/x-python",
   "name": "python",
   "nbconvert_exporter": "python",
   "pygments_lexer": "ipython3",
   "version": "3.7.6"
  }
 },
 "nbformat": 4,
 "nbformat_minor": 2
}
