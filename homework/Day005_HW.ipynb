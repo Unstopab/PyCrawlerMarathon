{
 "cells": [
  {
   "cell_type": "markdown",
   "metadata": {},
   "source": [
    "# API 資料串接 - 以 Dcard API 實作範例\n",
    "\n",
    "* 了解 Dcard API 使用方式與回傳內容\n",
    "* 撰寫程式存取 API 且解析 JSON 格式資料\n"
   ]
  },
  {
   "cell_type": "markdown",
   "metadata": {},
   "source": [
    "## 作業目標\n",
    "\n",
    "* 請利用 API: https://www.dcard.tw/_api/forums/pet/posts?popular=true 回答下列問題：\n",
    "\n",
    "1. 這個 API 一次會回傳幾筆資料？每一筆資料包含哪些欄位？\n",
    "2. 取出每一筆資料的「標題」、「貼文時間」、「留言人數」、「按讚人數」\n",
    "3. 計算熱門/非熱門文章的「平均留言人數」與「平均按讚人數」"
   ]
  },
  {
   "cell_type": "code",
   "execution_count": 41,
   "metadata": {},
   "outputs": [
    {
     "name": "stdout",
     "output_type": "stream",
     "text": [
      "30\n"
     ]
    }
   ],
   "source": [
    "# 1. 這個 API 一次會回傳幾筆資料？每一筆資料包含哪些欄位？\n",
    "\n",
    "import requests\n",
    "import json\n",
    "\n",
    "r = requests.get('https://www.dcard.tw/_api/forums/pet/posts?popular=true')\n",
    "data = json.loads(r.text)\n",
    "print(len(data))"
   ]
  },
  {
   "cell_type": "code",
   "execution_count": 42,
   "metadata": {},
   "outputs": [
    {
     "name": "stdout",
     "output_type": "stream",
     "text": [
      "如果麻吉兔是真的\n",
      "2020-06-07T02:20:42.499Z\n",
      "14\n",
      "350\n",
      "三隻哈士奇的日常 圖超多\n",
      "2020-06-06T09:43:25.988Z\n",
      "16\n",
      "141\n",
      "走失虎斑台灣犬 日月潭\n",
      "2020-06-06T14:32:31.977Z\n",
      "17\n",
      "95\n",
      "柴聚？車聚？\n",
      "2020-06-06T14:58:42.891Z\n",
      "13\n",
      "45\n",
      "寵物刺青圖幫選🙏\n",
      "2020-06-06T09:29:15.450Z\n",
      "39\n",
      "39\n",
      "在社辦撿到小奶貓🍼\n",
      "2020-06-06T13:48:55.848Z\n",
      "12\n",
      "27\n",
      "這位同學妳的柴柴\n",
      "2020-06-06T11:51:34.447Z\n",
      "1\n",
      "24\n",
      "東海ㄉ同學👋👋👋👋👋👋\n",
      "2020-06-06T16:31:22.529Z\n",
      "4\n",
      "19\n",
      "我有隻易斷電的貓-睡姿篇\n",
      "2020-06-06T11:19:57.438Z\n",
      "1\n",
      "17\n",
      "把幸運都給你\n",
      "2020-06-06T14:21:29.102Z\n",
      "1\n",
      "16\n",
      "尿床尿到我要哭了\n",
      "2020-06-06T12:58:02.763Z\n",
      "18\n",
      "16\n",
      "謝謝妳們幫我找到我的黃金獵犬❤️\n",
      "2020-06-07T13:07:22.919Z\n",
      "1\n",
      "12\n",
      "各位失散多年的兄弟姐妹們\n",
      "2020-06-06T15:54:57.406Z\n",
      "7\n",
      "12\n",
      "#尋狗\n",
      "2020-06-06T14:16:43.073Z\n",
      "0\n",
      "12\n",
      "模範貓咪\n",
      "2020-06-07T10:30:23.692Z\n",
      "2\n",
      "10\n",
      "館長的貓真的潮可愛...\n",
      "2020-06-07T12:43:58.481Z\n",
      "1\n",
      "9\n",
      "我家的動物園\n",
      "2020-06-07T15:51:29.133Z\n",
      "0\n",
      "7\n",
      "貓咪送養\n",
      "2020-06-07T09:09:56.204Z\n",
      "6\n",
      "7\n",
      "載偶嗎🥺🥺🥺🥺\n",
      "2020-06-07T05:25:24.236Z\n",
      "2\n",
      "7\n",
      "幫同事朋友的貓剪毛\n",
      "2020-06-06T07:11:36.172Z\n",
      "2\n",
      "7\n",
      "想領養貓要去哪裡找？\n",
      "2020-06-06T06:51:46.940Z\n",
      "19\n",
      "7\n",
      "飛機耳醜八怪\n",
      "2020-06-06T23:52:49.387Z\n",
      "4\n",
      "6\n",
      "可愛的野仙吃飯\n",
      "2020-06-06T08:34:41.467Z\n",
      "6\n",
      "6\n",
      "這位鼠奴我想告訴你\n",
      "2020-06-07T16:06:15.504Z\n",
      "1\n",
      "5\n",
      "唔！好亮！\n",
      "2020-06-07T10:07:57.853Z\n",
      "3\n",
      "5\n",
      "貓咪領養（幼貓）\n",
      "2020-06-07T06:19:03.400Z\n",
      "4\n",
      "5\n",
      "就只是想曬個哈士奇🐕\n",
      "2020-06-07T16:02:15.676Z\n",
      "0\n",
      "4\n",
      "有人家貓咪這樣睡覺的嗎？\n",
      "2020-06-07T15:47:39.171Z\n",
      "2\n",
      "4\n",
      "養到⋯胖⋯⋯虎⋯⋯⋯\n",
      "2020-06-07T15:13:20.467Z\n",
      "4\n",
      "4\n",
      "第一次棚拍\n",
      "2020-06-07T09:32:57.393Z\n",
      "0\n",
      "4\n"
     ]
    }
   ],
   "source": [
    "# 2. 取出每一筆資料的「標題」、「貼文時間」、「留言人數」、「按讚人數」\n",
    "for d in data:\n",
    "    print(d[\"title\"])\n",
    "    print(d[\"createdAt\"])\n",
    "    print(d[\"commentCount\"])\n",
    "    print(d[\"likeCount\"])"
   ]
  },
  {
   "cell_type": "code",
   "execution_count": 52,
   "metadata": {},
   "outputs": [
    {
     "name": "stdout",
     "output_type": "stream",
     "text": [
      "6.766666666666667 30.933333333333334\n",
      "2.1666666666666665 3.1\n"
     ]
    }
   ],
   "source": [
    "# 3. 計算熱門/非熱門文章的「平均留言人數」與「平均按讚人數」\n",
    "\n",
    "import requests\n",
    "import json\n",
    "\n",
    "#計算熱門文章\n",
    "r = requests.get('https://www.dcard.tw/_api/forums/pet/posts?popular=true')\n",
    "data = json.loads(r.text)\n",
    "commentCount = 0\n",
    "likeCount = 0\n",
    "for d in data:\n",
    "    commentCount +=  d[\"commentCount\"]\n",
    "    likeCount += d[\"likeCount\"]\n",
    "\n",
    "print(commentCount/len(data),likeCount/len(data))\n",
    "\n",
    "#計算非熱門文章\n",
    "r2 = requests.get('https://www.dcard.tw/_api/forums/pet/posts?popular=false')\n",
    "response = r2.text\n",
    "data2 = json.loads(r2.text)\n",
    "\n",
    "commentCount2 = 0\n",
    "likeCount2 = 0\n",
    "\n",
    "for d in data2:\n",
    "    commentCount2 += d[\"commentCount\"]\n",
    "    likeCount2 += d[\"likeCount\"]\n",
    "print(commentCount2/len(data2),likeCount2/len(data2))\n"
   ]
  },
  {
   "cell_type": "code",
   "execution_count": null,
   "metadata": {},
   "outputs": [],
   "source": []
  },
  {
   "cell_type": "code",
   "execution_count": null,
   "metadata": {},
   "outputs": [],
   "source": []
  }
 ],
 "metadata": {
  "kernelspec": {
   "display_name": "Python 3",
   "language": "python",
   "name": "python3"
  },
  "language_info": {
   "codemirror_mode": {
    "name": "ipython",
    "version": 3
   },
   "file_extension": ".py",
   "mimetype": "text/x-python",
   "name": "python",
   "nbconvert_exporter": "python",
   "pygments_lexer": "ipython3",
   "version": "3.7.6"
  }
 },
 "nbformat": 4,
 "nbformat_minor": 2
}
